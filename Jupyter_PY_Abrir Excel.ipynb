{
 "cells": [
  {
   "cell_type": "markdown",
   "metadata": {},
   "source": [
    "__Leyendo un archivos en JUPYTER__"
   ]
  },
  {
   "cell_type": "markdown",
   "metadata": {},
   "source": [
    "_Leyendo un excel Lo que tienes que hacer es ubicar un par de txt y excel en una ruta específica y cambiar los directorios, no te olvides de colocar doble "\\" al comenzar su ruta__"
   ]
  },
   
  {
   "cell_type": "code",
   "execution_count": 1,
   "metadata": {},
   "outputs": [
    {
     "name": "stdout",
     "output_type": "stream",
     "text": [
      "     Nombre  Edad  Sueldo\n",
      "0     Ilche    22    3000\n",
      "1     aaron    21    2939\n",
      "2     oscar    23    1078\n",
      "3    alonso    25    2884\n",
      "4   iriarte    22    2320\n",
      "5   nicolas    23    1184\n",
      "6    marcel    21    1382\n",
      "7     dario    20    2977\n",
      "8    mirian    19    1022\n",
      "9     karla    19    1155\n",
      "10    smail    22    1119\n"
     ]
    }
   ],
   "source": [
    "import pandas as pd\n",
    "df = pd.read_excel  (r'\\Users\\ilche_st130to\\Downloads\\Otro\\Datos2.xlsx')\n",
    "print(df)"
   ]
  },
  {
   "cell_type": "markdown",
   "metadata": {},
   "source": [
    "_Leyendo un TXT_"
   ]
  },
  {
   "cell_type": "code",
   "execution_count": 2,
   "metadata": {},
   "outputs": [
    {
     "name": "stdout",
     "output_type": "stream",
     "text": [
      "Hola Mi nombre es Ilche\n",
      "Hola Mi nombre es Oscar\n",
      "Hola Mi nombre es Miguel\n",
      "This is line C\n",
      "INPUT2\n",
      "INPUT1\n",
      "INPUT3\n",
      "\n"
     ]
    }
   ],
   "source": [
    "f = open('C:\\\\Users\\ilche_st130to\\Downloads\\Otro\\Archivo1.txt','r')\n",
    "mensaje = f.read()\n",
    "print(mensaje)"
   ]
  },
  {
   "cell_type": "markdown",
   "metadata": {},
   "source": [
    "_Escribiendo dentro de un txt_"
   ]
  },
  {
   "cell_type": "code",
   "execution_count": 3,
   "metadata": {},
   "outputs": [
    {
     "data": {
      "text/plain": [
       "25"
      ]
     },
     "execution_count": 3,
     "metadata": {},
     "output_type": "execute_result"
    }
   ],
   "source": [
    "file1 = open('C:\\\\Users\\ilche_st130to\\Downloads\\Otro\\Archivo1.txt','w')\n",
    "file1.write(\"Hola Mi nombre es Ilche\\n\")\n",
    "file1.write(\"Hola Mi nombre es Oscar\\n\")\n",
    "file1.write(\"Hola Mi nombre es Miguel\\n\")\n",
    " "
   ]
  },
  {
   "cell_type": "code",
   "execution_count": 4,
   "metadata": {},
   "outputs": [
    {
     "name": "stdout",
     "output_type": "stream",
     "text": [
      "\n"
     ]
    }
   ],
   "source": [
    "f = open('C:\\\\Users\\ilche_st130to\\Downloads\\Otro\\Archivo1.txt','r')\n",
    "mensaje = f.read()\n",
    "print(mensaje)"
   ]
  },
  {
   "cell_type": "markdown",
   "metadata": {},
   "source": [
    "_Añadiendo nuevas filas en un txt_"
   ]
  },
  {
   "cell_type": "code",
   "execution_count": 5,
   "metadata": {},
   "outputs": [],
   "source": [
    "\n",
    "with open('C:\\\\Users\\ilche_st130to\\Downloads\\Otro\\Archivo1.txt', 'a') as file1:\n",
    "    file1.write(\"This is line C\\n\")\n",
    "    file1.write(\"INPUT2\\n\")\n",
    "    file1.write(\"INPUT1\\n\")\n",
    "    file1.write(\"INPUT3\\n\")\n",
    " \n"
   ]
  },
  {
   "cell_type": "code",
   "execution_count": 6,
   "metadata": {},
   "outputs": [
    {
     "name": "stdout",
     "output_type": "stream",
     "text": [
      "Hola Mi nombre es Ilche\n",
      "Hola Mi nombre es Oscar\n",
      "Hola Mi nombre es Miguel\n",
      "This is line C\n",
      "INPUT2\n",
      "INPUT1\n",
      "INPUT3\n",
      "\n"
     ]
    }
   ],
   "source": [
    "f = open('C:\\\\Users\\ilche_st130to\\Downloads\\Otro\\Archivo1.txt','r')\n",
    "mensaje = f.read()\n",
    "print(mensaje)"
   ]
  },
  {
   "cell_type": "markdown",
   "metadata": {},
   "source": [
    "_Escribiendo una lista para poder llevarlo a un for_"
   ]
  },
  {
   "cell_type": "code",
   "execution_count": 7,
   "metadata": {},
   "outputs": [
    {
     "data": {
      "text/plain": [
       "['This is line A\\n', 'This is line B\\n', 'This is line C\\n']"
      ]
     },
     "execution_count": 7,
     "metadata": {},
     "output_type": "execute_result"
    }
   ],
   "source": [
    "Lines = [\"This is line A\\n\", \"This is line B\\n\", \"This is line C\\n\"]\n",
    "Lines"
   ]
  },
  {
   "cell_type": "code",
   "execution_count": 8,
   "metadata": {},
   "outputs": [
    {
     "name": "stdout",
     "output_type": "stream",
     "text": [
      "This is line A\n",
      "\n",
      "This is line B\n",
      "\n",
      "This is line C\n",
      "\n"
     ]
    }
   ],
   "source": [
    "# Escribir las cadenas de la lista a un archivo de texto\n",
    "\n",
    "with open('C:\\\\Users\\ilche_st130to\\Downloads\\Otro\\Archivo1.txt', 'w') as writefile:\n",
    "    for line in Lines:\n",
    "        print(line)\n",
    "        writefile.write(line)"
   ]
  },
  {
   "cell_type": "code",
   "execution_count": 9,
   "metadata": {},
   "outputs": [
    {
     "name": "stdout",
     "output_type": "stream",
     "text": [
      "This is line A\n",
      "This is line B\n",
      "This is line C\n",
      "\n"
     ]
    }
   ],
   "source": [
    "with open('C:\\\\Users\\ilche_st130to\\Downloads\\Otro\\Archivo1.txt', 'r') as file1:\n",
    "    print(file1.read())"
   ]
  },
  {
   "cell_type": "markdown",
   "metadata": {},
   "source": [
    "_Añadiendo una nueva fila con for y una lista_"
   ]
  },
  {
   "cell_type": "code",
   "execution_count": 10,
   "metadata": {},
   "outputs": [],
   "source": [
    "with open('C:\\\\Users\\ilche_st130to\\Downloads\\Otro\\Archivo1.txt', 'a') as testwritefile:\n",
    "    testwritefile.write(\"This is line D\\n\")"
   ]
  },
  {
   "cell_type": "code",
   "execution_count": 11,
   "metadata": {},
   "outputs": [
    {
     "name": "stdout",
     "output_type": "stream",
     "text": [
      "This is line A\n",
      "This is line B\n",
      "This is line C\n",
      "This is line D\n",
      "\n"
     ]
    }
   ],
   "source": [
    "with open('C:\\\\Users\\ilche_st130to\\Downloads\\Otro\\Archivo1.txt', 'r') as file1:\n",
    "    print(file1.read())"
   ]
  },
  {
   "cell_type": "markdown",
   "metadata": {},
   "source": [
    "<h2 id=\"copy\">Copiar un Archivo</h2> "
   ]
  },
  {
   "cell_type": "code",
   "execution_count": 12,
   "metadata": {},
   "outputs": [],
   "source": [
    "# Copiar un archivo en otro\n",
    "\n",
    "with open('C:\\\\Users\\ilche_st130to\\Downloads\\Otro\\Archivo1.txt','r') as readfile:\n",
    "    with open('C:\\\\Users\\ilche_st130to\\Downloads\\Otro\\Archivo2.txt','w') as writefile:\n",
    "          for line in readfile:\n",
    "                writefile.write(line)"
   ]
  },
  {
   "cell_type": "code",
   "execution_count": 13,
   "metadata": {},
   "outputs": [
    {
     "name": "stdout",
     "output_type": "stream",
     "text": [
      "This is line A\n",
      "This is line B\n",
      "This is line C\n",
      "This is line D\n",
      "\n"
     ]
    }
   ],
   "source": [
    "with open('C:\\\\Users\\ilche_st130to\\Downloads\\Otro\\Archivo2.txt', 'r') as file1:\n",
    "    print(file1.read())"
   ]
  },
  {
   "cell_type": "code",
   "execution_count": null,
   "metadata": {},
   "outputs": [],
   "source": []
  }
 ],
 "metadata": {
  "kernelspec": {
   "display_name": "Python 3",
   "language": "python",
   "name": "python3"
  },
  "language_info": {
   "codemirror_mode": {
    "name": "ipython",
    "version": 3
   },
   "file_extension": ".py",
   "mimetype": "text/x-python",
   "name": "python",
   "nbconvert_exporter": "python",
   "pygments_lexer": "ipython3",
   "version": "3.8.5"
  }
 },
 "nbformat": 4,
 "nbformat_minor": 4
}
